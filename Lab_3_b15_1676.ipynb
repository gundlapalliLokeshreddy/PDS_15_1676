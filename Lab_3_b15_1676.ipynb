{
  "nbformat": 4,
  "nbformat_minor": 0,
  "metadata": {
    "colab": {
      "provenance": [],
      "authorship_tag": "ABX9TyPXrfq/cyEkwJLblb9KPVOd",
      "include_colab_link": true
    },
    "kernelspec": {
      "name": "python3",
      "display_name": "Python 3"
    },
    "language_info": {
      "name": "python"
    }
  },
  "cells": [
    {
      "cell_type": "markdown",
      "metadata": {
        "id": "view-in-github",
        "colab_type": "text"
      },
      "source": [
        "<a href=\"https://colab.research.google.com/github/gundlapalliLokeshreddy/PDS_15_1676/blob/main/Lab_3_b15_1676.ipynb\" target=\"_parent\"><img src=\"https://colab.research.google.com/assets/colab-badge.svg\" alt=\"Open In Colab\"/></a>"
      ]
    },
    {
      "cell_type": "code",
      "execution_count": 1,
      "metadata": {
        "colab": {
          "base_uri": "https://localhost:8080/"
        },
        "id": "BuHppU_DtfVH",
        "outputId": "b0737ec2-e155-4b79-923c-86a62feaf542"
      },
      "outputs": [
        {
          "output_type": "stream",
          "name": "stdout",
          "text": [
            "Matrix A:\n",
            " [[6 9 7]\n",
            " [2 4 1]\n",
            " [4 8 1]]\n",
            "Matrix B:\n",
            " [[2 2 5]\n",
            " [5 3 9]\n",
            " [9 1 4]]\n",
            "\n",
            "Matrix Addition:\n",
            " [[ 8 11 12]\n",
            " [ 7  7 10]\n",
            " [13  9  5]]\n",
            "\n",
            "Matrix Subtraction:\n",
            " [[ 4  7  2]\n",
            " [-3  1 -8]\n",
            " [-5  7 -3]]\n",
            "\n",
            "Manual Check (A[0,0] + B[0,0]): 8\n",
            "Manual Check (A[0,0] - B[0,0]): 4\n"
          ]
        }
      ],
      "source": [
        "import numpy as np\n",
        "\n",
        "A = np.random.randint(1, 10, (3, 3))\n",
        "B = np.random.randint(1, 10, (3, 3))\n",
        "\n",
        "print(\"Matrix A:\\n\", A)\n",
        "print(\"Matrix B:\\n\", B)\n",
        "\n",
        "add_result = np.add(A, B)\n",
        "sub_result = np.subtract(A, B)\n",
        "\n",
        "print(\"\\nMatrix Addition:\\n\", add_result)\n",
        "print(\"\\nMatrix Subtraction:\\n\", sub_result)\n",
        "\n",
        "print(\"\\nManual Check (A[0,0] + B[0,0]):\", A[0,0] + B[0,0])\n",
        "print(\"Manual Check (A[0,0] - B[0,0]):\", A[0,0] - B[0,0])\n"
      ]
    },
    {
      "cell_type": "code",
      "source": [
        "import numpy as np\n",
        "\n",
        "X = np.random.randint(1, 10, (3, 2))\n",
        "Y = np.random.randint(1, 10, (2, 3))\n",
        "\n",
        "print(\"Matrix X (3x2):\\n\", X)\n",
        "print(\"Matrix Y (2x3):\\n\", Y)\n",
        "\n",
        "dot_result = np.dot(X, Y)\n",
        "\n",
        "print(\"\\nDot Product Result (3x3):\\n\", dot_result)\n",
        "\n",
        "print(\"\\nManual Check (X[0] dot Y[:,0]):\", np.dot(X[0], Y[:,0]))"
      ],
      "metadata": {
        "colab": {
          "base_uri": "https://localhost:8080/"
        },
        "id": "HkmRe0g1tmdl",
        "outputId": "efceec86-b96e-4e42-e556-acd1325f07fd"
      },
      "execution_count": 2,
      "outputs": [
        {
          "output_type": "stream",
          "name": "stdout",
          "text": [
            "Matrix X (3x2):\n",
            " [[4 5]\n",
            " [6 9]\n",
            " [2 8]]\n",
            "Matrix Y (2x3):\n",
            " [[8 3 5]\n",
            " [3 9 6]]\n",
            "\n",
            "Dot Product Result (3x3):\n",
            " [[47 57 50]\n",
            " [75 99 84]\n",
            " [40 78 58]]\n",
            "\n",
            "Manual Check (X[0] dot Y[:,0]): 47\n"
          ]
        }
      ]
    }
  ]
}